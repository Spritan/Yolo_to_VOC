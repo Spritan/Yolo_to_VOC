{
 "cells": [
  {
   "cell_type": "markdown",
   "metadata": {},
   "source": [
    "# Convert yolo annotations to voc\n"
   ]
  },
  {
   "cell_type": "markdown",
   "metadata": {},
   "source": [
    "Converting YOLO (You Only Look Once) annotations to VOC (PASCAL VOC) format serves as a strategic step in enhancing compatibility and interoperability within the computer vision ecosystem. The process enables seamless integration with frameworks, datasets, and tools that rely on the VOC annotation standard, promoting flexibility and ease of use. By adopting VOC format, one gains access to a broader range of pre-trained models, community-supported evaluation tools, and benchmark datasets like the PASCAL VOC challenges. This conversion not only facilitates collaboration within the computer vision community but also ensures the utilization of established standards for annotation and evaluation, ultimately contributing to more robust and widely applicable object detection workflows."
   ]
  },
  {
   "cell_type": "markdown",
   "metadata": {},
   "source": [
    "Converting YOLO (You Only Look Once) annotations to VOC (PASCAL VOC) format involves reformatting the annotation information from YOLO's specific format to the XML format used by VOC. Here are the steps to convert YOLO annotations to VOC:"
   ]
  },
  {
   "cell_type": "markdown",
   "metadata": {},
   "source": [
    "## 1. YOLO Annotation Format:"
   ]
  },
  {
   "cell_type": "markdown",
   "metadata": {},
   "source": [
    "In YOLO, annotations are typically stored in a text file where each line corresponds to an annotation for an image. The format for each line is:"
   ]
  },
  {
   "cell_type": "code",
   "execution_count": 1,
   "metadata": {
    "vscode": {
     "languageId": "bat"
    }
   },
   "outputs": [
    {
     "ename": "SyntaxError",
     "evalue": "invalid syntax (4106331670.py, line 1)",
     "output_type": "error",
     "traceback": [
      "\u001b[0;36m  File \u001b[0;32m\"/tmp/ipykernel_100545/4106331670.py\"\u001b[0;36m, line \u001b[0;32m1\u001b[0m\n\u001b[0;31m    <class_id> <center_x> <center_y> <width> <height>\u001b[0m\n\u001b[0m    ^\u001b[0m\n\u001b[0;31mSyntaxError\u001b[0m\u001b[0;31m:\u001b[0m invalid syntax\n"
     ]
    }
   ],
   "source": [
    "<class_id> <center_x> <center_y> <width> <height>"
   ]
  },
  {
   "cell_type": "markdown",
   "metadata": {},
   "source": [
    "## 2. VOC Annotation Format:\n",
    "\n",
    "In VOC format, annotations are stored in XML files. Here's a basic template for a VOC XML file:"
   ]
  },
  {
   "cell_type": "code",
   "execution_count": null,
   "metadata": {
    "vscode": {
     "languageId": "xml"
    }
   },
   "outputs": [],
   "source": [
    "<annotation>\n",
    "\t<folder></folder>\n",
    "\t<filename>image.jpg</filename>\n",
    "\t<size>\n",
    "\t\t<width>width</width>\n",
    "\t\t<height>height</height>\n",
    "\t\t<depth>3</depth>\n",
    "\t</size>\n",
    "\t<object>\n",
    "\t\t<name>class_name</name>\n",
    "\t\t<pose>Unspecified</pose>\n",
    "\t\t<truncated>0</truncated>\n",
    "\t\t<difficult>0</difficult>\n",
    "\t\t<bndbox>\n",
    "\t\t\t<xmin>xmin</xmin>\n",
    "\t\t\t<ymin>ymin</ymin>\n",
    "\t\t\t<xmax>xmax</xmax>\n",
    "\t\t\t<ymax>ymax</ymax>\n",
    "\t\t</bndbox>\n",
    "\t</object>\n",
    "</annotation>\n"
   ]
  },
  {
   "cell_type": "markdown",
   "metadata": {},
   "source": [
    "## 3. Conversion Script (Python) for single file:\n",
    "\n",
    "You can use a Python script to read YOLO annotations and generate VOC XML files. Here's a basic script:"
   ]
  },
  {
   "cell_type": "markdown",
   "metadata": {},
   "source": [
    "### Imports"
   ]
  },
  {
   "cell_type": "code",
   "execution_count": 22,
   "metadata": {
    "vscode": {
     "languageId": "xml"
    }
   },
   "outputs": [],
   "source": [
    "# For files operations\n",
    "import os \n",
    "\n",
    "# For working with XML files\n",
    "import xml.etree.ElementTree as ET\n",
    "\n",
    "# For displaying progress bar\n",
    "from tqdm import tqdm"
   ]
  },
  {
   "cell_type": "markdown",
   "metadata": {},
   "source": [
    "### Main Code"
   ]
  },
  {
   "cell_type": "code",
   "execution_count": 14,
   "metadata": {},
   "outputs": [],
   "source": [
    "def yolo_to_voc(yolo_path, voc_path, image_width, image_height):\n",
    "    # Read YOLO annotations from file\n",
    "    with open(yolo_path, 'r') as file:\n",
    "        lines = file.readlines()\n",
    "\n",
    "    # Create the root element for the XML tree\n",
    "    root = ET.Element(\"annotation\")\n",
    "\n",
    "    # Add the 'folder' element to the root\n",
    "    folder = ET.SubElement(root, \"folder\")\n",
    "    folder.text = \"\"  # Replace with the appropriate folder name\n",
    "\n",
    "    # Add the 'filename' element to the root\n",
    "    filename = ET.SubElement(root, \"filename\")\n",
    "    filename.text = os.path.basename(yolo_path).replace('.txt', '.jpg')\n",
    "\n",
    "    # Add the 'size' element to the root\n",
    "    size = ET.SubElement(root, \"size\")\n",
    "    width = ET.SubElement(size, \"width\")\n",
    "    height = ET.SubElement(size, \"height\")\n",
    "    depth = ET.SubElement(size, \"depth\")\n",
    "    width.text = str(image_width)\n",
    "    height.text = str(image_height)\n",
    "    depth.text = \"3\"\n",
    "\n",
    "    # Process each line in the YOLO file (each line corresponds to a bounding box)\n",
    "    for line in lines:\n",
    "        parts = line.split()\n",
    "        class_id, center_x, center_y, bbox_width, bbox_height = map(float, parts)\n",
    "\n",
    "        # Add the 'object' element to the root for each bounding box\n",
    "        obj = ET.SubElement(root, \"object\")\n",
    "\n",
    "        # Add the 'name' element to the 'object' element\n",
    "        name = ET.SubElement(obj, \"name\")\n",
    "        name.text = str(int(class_id) + 1)  # Class ID (YOLO uses 0-based indexing)\n",
    "\n",
    "        # Add the 'pose' element to the 'object' element\n",
    "        pose = ET.SubElement(obj, \"pose\")\n",
    "        pose.text = \"Unspecified\"\n",
    "\n",
    "        # Add the 'truncated' element to the 'object' element\n",
    "        truncated = ET.SubElement(obj, \"truncated\")\n",
    "        truncated.text = \"0\"\n",
    "\n",
    "        # Add the 'difficult' element to the 'object' element\n",
    "        difficult = ET.SubElement(obj, \"difficult\")\n",
    "        difficult.text = \"0\"\n",
    "\n",
    "        # Add the 'bndbox' element to the 'object' element\n",
    "        bndbox = ET.SubElement(obj, \"bndbox\")\n",
    "        xmin = ET.SubElement(bndbox, \"xmin\")\n",
    "        ymin = ET.SubElement(bndbox, \"ymin\")\n",
    "        xmax = ET.SubElement(bndbox, \"xmax\")\n",
    "        ymax = ET.SubElement(bndbox, \"ymax\")\n",
    "\n",
    "        # Calculate and set bounding box coordinates based on YOLO format\n",
    "        xmin.text = str(int((center_x - bbox_width / 2) * image_width))\n",
    "        ymin.text = str(int((center_y - bbox_height / 2) * image_height))\n",
    "        xmax.text = str(int((center_x + bbox_width / 2) * image_width))\n",
    "        ymax.text = str(int((center_y + bbox_height / 2) * image_height))\n",
    "\n",
    "    # Create an XML tree and write it to the specified VOC XML file\n",
    "    tree = ET.ElementTree(root)\n",
    "    tree.write(voc_path)"
   ]
  },
  {
   "cell_type": "markdown",
   "metadata": {},
   "source": [
    "### trail"
   ]
  },
  {
   "cell_type": "markdown",
   "metadata": {},
   "source": [
    "#### Input"
   ]
  },
  {
   "cell_type": "code",
   "execution_count": 12,
   "metadata": {},
   "outputs": [
    {
     "name": "stdout",
     "output_type": "stream",
     "text": [
      "7 0.7026666666666667 0.35133333333333333 0.24533333333333332 0.24533333333333332\n",
      "4 0.3888333333333333 0.36733333333333335 0.36866666666666664 0.36866666666666664\n",
      "6 0.7026666666666667 0.35133333333333333 0.24533333333333332 0.24533333333333332\n",
      "8 0.7323333333333333 0.312 0.03866666666666667 0.03866666666666667\n",
      "6 0.3888333333333333 0.36733333333333335 0.36866666666666664 0.36866666666666664\n",
      "7 0.3888333333333333 0.36733333333333335 0.36866666666666664 0.36866666666666664\n"
     ]
    }
   ],
   "source": [
    "!cat  '/run/media/spritan/New Volume/VinData/data_processed/step3_split_data/out_split_MONOCHROME1/train/labels/0a4fbc9ade84a7abd1680eb8ba031a9d_R13.txt'"
   ]
  },
  {
   "cell_type": "markdown",
   "metadata": {},
   "source": [
    "#### Run"
   ]
  },
  {
   "cell_type": "code",
   "execution_count": 15,
   "metadata": {},
   "outputs": [],
   "source": [
    "# Example usage:\n",
    "yolo_path = \"/run/media/spritan/New Volume/VinData/data_processed/step3_split_data/out_split_MONOCHROME1/train/labels/0a4fbc9ade84a7abd1680eb8ba031a9d_R13.txt\"\n",
    "voc_path = \"./voc_annotation.xml\"\n",
    "image_width = 512  # Replace with the actual width of the image\n",
    "image_height = 512  # Replace with the actual height of the image\n",
    "\n",
    "yolo_to_voc(yolo_path, voc_path, image_width, image_height)"
   ]
  },
  {
   "cell_type": "markdown",
   "metadata": {},
   "source": [
    "#### Output"
   ]
  },
  {
   "cell_type": "code",
   "execution_count": 8,
   "metadata": {},
   "outputs": [
    {
     "name": "stdout",
     "output_type": "stream",
     "text": [
      "<annotation>\n",
      "    <folder>VOC2012</folder>\n",
      "    <filename>0a4fbc9ade84a7abd1680eb8ba031a9d_R13.jpg</filename>\n",
      "    <size>\n",
      "        <width>512</width>\n",
      "        <height>512</height>\n",
      "        <depth>3</depth>\n",
      "    </size>\n",
      "    <object>\n",
      "        <name>7</name>\n",
      "        <pose>Unspecified</pose>\n",
      "        <truncated>0</truncated>\n",
      "        <difficult>0</difficult>\n",
      "        <bndbox>\n",
      "            <xmin>296</xmin>\n",
      "            <ymin>117</ymin>\n",
      "            <xmax>422</xmax>\n",
      "            <ymax>242</ymax>\n",
      "        </bndbox>\n",
      "    </object>\n",
      "    <object>\n",
      "        <name>4</name>\n",
      "        <pose>Unspecified</pose>\n",
      "        <truncated>0</truncated>\n",
      "        <difficult>0</difficult>\n",
      "        <bndbox>\n",
      "            <xmin>104</xmin>\n",
      "            <ymin>93</ymin>\n",
      "            <xmax>293</xmax>\n",
      "            <ymax>282</ymax>\n",
      "        </bndbox>\n",
      "    </object>\n",
      "    <object>\n",
      "        <name>6</name>\n",
      "        <pose>Unspecified</pose>\n",
      "        <truncated>0</truncated>\n",
      "        <difficult>0</difficult>\n",
      "        <bndbox>\n",
      "            <xmin>296</xmin>\n",
      "            <ymin>117</ymin>\n",
      "            <xmax>422</xmax>\n",
      "            <ymax>242</ymax>\n",
      "        </bndbox>\n",
      "    </object>\n",
      "    <object>\n",
      "        <name>8</name>\n",
      "        <pose>Unspecified</pose>\n",
      "        <truncated>0</truncated>\n",
      "        <difficult>0</difficult>\n",
      "        <bndbox>\n",
      "            <xmin>365</xmin>\n",
      "            <ymin>149</ymin>\n",
      "            <xmax>384</xmax>\n",
      "            <ymax>169</ymax>\n",
      "        </bndbox>\n",
      "    </object>\n",
      "    <object>\n",
      "        <name>6</name>\n",
      "        <pose>Unspecified</pose>\n",
      "        <truncated>0</truncated>\n",
      "        <difficult>0</difficult>\n",
      "        <bndbox>\n",
      "            <xmin>104</xmin>\n",
      "            <ymin>93</ymin>\n",
      "            <xmax>293</xmax>\n",
      "            <ymax>282</ymax>\n",
      "        </bndbox>\n",
      "    </object>\n",
      "    <object>\n",
      "        <name>7</name>\n",
      "        <pose>Unspecified</pose>\n",
      "        <truncated>0</truncated>\n",
      "        <difficult>0</difficult>\n",
      "        <bndbox>\n",
      "            <xmin>104</xmin>\n",
      "            <ymin>93</ymin>\n",
      "            <xmax>293</xmax>\n",
      "            <ymax>282</ymax>\n",
      "        </bndbox>\n",
      "    </object>\n",
      "</annotation>"
     ]
    }
   ],
   "source": [
    "!cat './voc_annotation.xml'"
   ]
  },
  {
   "cell_type": "markdown",
   "metadata": {},
   "source": [
    "## 4. Conversion Script (Python) for entire folder:"
   ]
  },
  {
   "cell_type": "code",
   "execution_count": 19,
   "metadata": {},
   "outputs": [
    {
     "name": "stderr",
     "output_type": "stream",
     "text": [
      "processing:: 100%|██████████| 867/867 [00:00<00:00, 1372.63it/s]\n"
     ]
    }
   ],
   "source": [
    "yolo_dir_path = \"/run/media/spritan/New Volume/VinData/data_processed/step3_split_data/out_split_MONOCHROME1/val/labels\"\n",
    "voc_dir_path  = \"/run/media/spritan/New Volume/VinData/data_processed/step3_split_data/out_split_MONOCHROME1/val/labelsVOC\"\n",
    "image_width = 512  # Replace with the actual width of the image\n",
    "image_height = 512  # Replace with the actual height of the image\n",
    "\n",
    "yolo_files = os.listdir(yolo_dir_path)\n",
    "\n",
    "for file in tqdm(yolo_files, desc=\"processing:\"):\n",
    "    yolo_path = os.path.join(yolo_dir_path,file)\n",
    "    voc_file = os.path.basename(file).replace('.txt', '.xml')\n",
    "    voc_path = os.path.join(voc_dir_path,voc_file)\n",
    "    yolo_to_voc(yolo_path, voc_path, image_width, image_height)"
   ]
  },
  {
   "cell_type": "markdown",
   "metadata": {},
   "source": [
    "## 5. Complete Code"
   ]
  },
  {
   "cell_type": "code",
   "execution_count": 21,
   "metadata": {},
   "outputs": [],
   "source": [
    "import os\n",
    "import xml.etree.ElementTree as ET\n",
    "from tqdm import tqdm\n",
    "\n",
    "def yolo_to_voc(yolo_path, voc_path, image_width, image_height):\n",
    "    with open(yolo_path, 'r') as file:\n",
    "        lines = file.readlines()\n",
    "\n",
    "    root = ET.Element(\"annotation\")\n",
    "\n",
    "    folder = ET.SubElement(root, \"folder\")\n",
    "    folder.text = \"\"\n",
    "\n",
    "    filename = ET.SubElement(root, \"filename\")\n",
    "    filename.text = os.path.basename(yolo_path).replace('.txt', '.jpg')\n",
    "\n",
    "    size = ET.SubElement(root, \"size\")\n",
    "    width = ET.SubElement(size, \"width\")\n",
    "    height = ET.SubElement(size, \"height\")\n",
    "    depth = ET.SubElement(size, \"depth\")\n",
    "    width.text = str(image_width)\n",
    "    height.text = str(image_height)\n",
    "    depth.text = \"3\"\n",
    "\n",
    "    for line in lines:\n",
    "        parts = line.split()\n",
    "        class_id, center_x, center_y, bbox_width, bbox_height = map(float, parts)\n",
    "\n",
    "        obj = ET.SubElement(root, \"object\")\n",
    "        name = ET.SubElement(obj, \"name\")\n",
    "        name.text = str(int(class_id)+1)\n",
    "\n",
    "        pose = ET.SubElement(obj, \"pose\")\n",
    "        pose.text = \"Unspecified\"\n",
    "\n",
    "        truncated = ET.SubElement(obj, \"truncated\")\n",
    "        truncated.text = \"0\"\n",
    "\n",
    "        difficult = ET.SubElement(obj, \"difficult\")\n",
    "        difficult.text = \"0\"\n",
    "\n",
    "        bndbox = ET.SubElement(obj, \"bndbox\")\n",
    "        xmin = ET.SubElement(bndbox, \"xmin\")\n",
    "        ymin = ET.SubElement(bndbox, \"ymin\")\n",
    "        xmax = ET.SubElement(bndbox, \"xmax\")\n",
    "        ymax = ET.SubElement(bndbox, \"ymax\")\n",
    "\n",
    "        xmin.text = str(int((center_x - bbox_width / 2) * image_width))\n",
    "        ymin.text = str(int((center_y - bbox_height / 2) * image_height))\n",
    "        xmax.text = str(int((center_x + bbox_width / 2) * image_width))\n",
    "        ymax.text = str(int((center_y + bbox_height / 2) * image_height))\n",
    "\n",
    "    tree = ET.ElementTree(root)\n",
    "    tree.write(voc_path)\n",
    "\n",
    "yolo_dir_path = \"/run/media/spritan/New Volume/VinData/data_processed/step3_split_data/out_split_MONOCHROME1/val/labels\"\n",
    "voc_dir_path  = \"/run/media/spritan/New Volume/VinData/data_processed/step3_split_data/out_split_MONOCHROME1/val/labelsVOC\"\n",
    "image_width = 512  # Replace with the actual width of the image\n",
    "image_height = 512  # Replace with the actual height of the image\n",
    "\n",
    "yolo_files = os.listdir(yolo_dir_path)\n",
    "\n",
    "for file in tqdm(yolo_files, desc=\"processing:\"):\n",
    "    yolo_path = os.path.join(yolo_dir_path,file)\n",
    "    voc_file = os.path.basename(file).replace('.txt', '.xml')\n",
    "    voc_path = os.path.join(voc_dir_path,voc_file)\n",
    "    yolo_to_voc(yolo_path, voc_path, image_width, image_height)"
   ]
  }
 ],
 "metadata": {
  "kernelspec": {
   "display_name": "my_env_name_2",
   "language": "python",
   "name": "python3"
  },
  "language_info": {
   "codemirror_mode": {
    "name": "ipython",
    "version": 3
   },
   "file_extension": ".py",
   "mimetype": "text/x-python",
   "name": "python",
   "nbconvert_exporter": "python",
   "pygments_lexer": "ipython3",
   "version": "3.7.12"
  }
 },
 "nbformat": 4,
 "nbformat_minor": 2
}
